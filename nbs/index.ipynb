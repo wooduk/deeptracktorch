{
 "cells": [
  {
   "cell_type": "code",
   "execution_count": 3,
   "metadata": {},
   "outputs": [],
   "source": [
    "#hide\n",
    "from deeptracktorch.cli import *"
   ]
  },
  {
   "cell_type": "markdown",
   "metadata": {},
   "source": [
    "# Welcome to Deep Track Torch\n",
    "\n",
    "> A deep-learning based particle tracker using PyTorch."
   ]
  },
  {
   "cell_type": "markdown",
   "metadata": {},
   "source": [
    "`deeptracktorch` is a library for building and running a neural network that can to extract the position of objects in microscopy images or video. \n",
    "\n",
    "It is based on [DeepTrack](https://github.com/softmatterlab/DeepTrack) by Saga Helgadottir, Aykut Argun and Giovanni Volpe.\n",
    "\n",
    "DeepTrackTorch started as a conversion of the DeepTrack to the PyTorch framework. "
   ]
  },
  {
   "cell_type": "markdown",
   "metadata": {},
   "source": [
    "## Installing"
   ]
  },
  {
   "cell_type": "markdown",
   "metadata": {},
   "source": [
    "deeptracktorch is is on PyPI so you can just run:"
   ]
  },
  {
   "cell_type": "markdown",
   "metadata": {},
   "source": [
    "`pip install deeptracktorch`"
   ]
  },
  {
   "cell_type": "markdown",
   "metadata": {},
   "source": [
    "For an editable install, use the following:"
   ]
  },
  {
   "cell_type": "markdown",
   "metadata": {},
   "source": [
    "```git clone https://github.com/wooduk/deeptracktorch\n",
    "pip install -e deeptracktorch```"
   ]
  },
  {
   "cell_type": "markdown",
   "metadata": {},
   "source": [
    "## How to use"
   ]
  },
  {
   "cell_type": "markdown",
   "metadata": {},
   "source": [
    "The module can either be used as a library within python projects (e.g. Jupyter Notebooks) or as a standalone command line tool.\n",
    "\n",
    "The module allows you to:\n",
    "* train a neural net using synthetic images\n",
    "* use that or pre-trained neural nets to extract particle position information from microscopy images or video."
   ]
  },
  {
   "cell_type": "markdown",
   "metadata": {},
   "source": [
    "### Example 1: track particles in a video"
   ]
  },
  {
   "cell_type": "markdown",
   "metadata": {},
   "source": [
    "`deeptrack track <video>`"
   ]
  },
  {
   "cell_type": "markdown",
   "metadata": {},
   "source": [
    "### Example 2: Train a NN"
   ]
  },
  {
   "cell_type": "markdown",
   "metadata": {},
   "source": [
    "`deeptrack generate <params_file>` "
   ]
  },
  {
   "cell_type": "markdown",
   "metadata": {},
   "source": [
    "`deeptrack train <model> <input>`"
   ]
  },
  {
   "cell_type": "markdown",
   "metadata": {},
   "source": []
  },
  {
   "cell_type": "code",
   "execution_count": null,
   "metadata": {},
   "outputs": [],
   "source": []
  }
 ],
 "metadata": {
  "kernelspec": {
   "display_name": "Python 3",
   "language": "python",
   "name": "python3"
  },
  "language_info": {
   "codemirror_mode": {
    "name": "ipython",
    "version": 3
   },
   "file_extension": ".py",
   "mimetype": "text/x-python",
   "name": "python",
   "nbconvert_exporter": "python",
   "pygments_lexer": "ipython3",
   "version": "3.8.1"
  }
 },
 "nbformat": 4,
 "nbformat_minor": 4
}
