{
 "cells": [
  {
   "cell_type": "code",
   "execution_count": 2,
   "metadata": {},
   "outputs": [],
   "source": [
    "#hide\n",
    "%load_ext autoreload\n",
    "%autoreload 2"
   ]
  },
  {
   "cell_type": "code",
   "execution_count": 3,
   "metadata": {},
   "outputs": [],
   "source": [
    "import matplotlib.pyplot as plt\n",
    "import numpy as np\n",
    "from numpy.random import normal, uniform, choice, randint\n",
    "from numpy import pi\n",
    "import sys, shutil\n",
    "from tqdm import tqdm\n",
    "from deeptracktorch.disp import *\n",
    "from deeptracktorch.simg import *\n",
    "from deeptracktorch.measures import radialcenter\n",
    "from deeptracktorch.models import DeepTrackNet\n",
    "from deeptracktorch.video import track_single_particle\n",
    "\n",
    "from fastai.vision import *\n",
    "from sklearn.metrics import mean_squared_error, mean_absolute_error\n"
   ]
  },
  {
   "cell_type": "markdown",
   "metadata": {},
   "source": [
    "# Experiment 1: Extract Particle Position From Images Using segmentation\n",
    "> An experiment to train NN to extract position of particle from image conatining 1 particle."
   ]
  },
  {
   "cell_type": "markdown",
   "metadata": {},
   "source": [
    "## Introduction\n",
    "\n",
    "The aim of this notebook is to demonstrate the process of training a Neural Network to extract the position of a particle from an image.\n",
    "\n",
    "It will only consider images containing a single particle.\n",
    "\n",
    "The stages are as follows:\n",
    " * Generate a set of synthetic images: Training, Validation and Test Sets\n",
    " * Define a DataLoader for this training data.\n",
    " * Load our Neural Network architecture and train the network\n",
    " * Use the trained network to extract the position of particles in the test set\n",
    " * Evaluate the accuracy of the extractions\n",
    " * (consider hyperparameters)"
   ]
  },
  {
   "cell_type": "markdown",
   "metadata": {},
   "source": [
    "## If training the network..."
   ]
  },
  {
   "cell_type": "markdown",
   "metadata": {},
   "source": [
    "Define the distributions to be used for the particles that will be used when generating a set of training, validation and test images. Based on values extracted from [Helgadottir, Argun, and Volpe (2019)](https://www.osapublishing.org/optica/abstract.cfm?uri=optica-6-4-506) and the [source code](https://github.com/wooduk/DeepTrack/blob/master/DeepTrack%201.0/deeptrack.py) accompanying that paper."
   ]
  },
  {
   "cell_type": "markdown",
   "metadata": {},
   "source": [
    "Create a dataframe defining 1000 training images.\n",
    "\n",
    "**TRAIN THIS ON COLLAB WITH 100k IMAGES!***"
   ]
  },
  {
   "cell_type": "code",
   "execution_count": 4,
   "metadata": {},
   "outputs": [],
   "source": [
    "train_img_dist = {   \n",
    "    'n_particles': lambda: randint(0,4),\n",
    "    'size': lambda: 51,\n",
    "    'bkgd_level': lambda: uniform(0.2,0.8),\n",
    "    'gradient_intensity': lambda: uniform(0,1),\n",
    "    'gradient_direction': lambda: uniform(-pi,pi),\n",
    "    'snr': lambda: uniform(10,100),\n",
    "}\n",
    "\n",
    "train_p_dist = {\n",
    "    # the position of the particle relative to center of image. -1 to +1 being the edges in each direction.\n",
    "    'x': lambda: normal(0., 0.5),\n",
    "    'y': lambda: normal(0., 0.5),\n",
    "    \n",
    "    # I don't know what units this is in... pixels?\n",
    "    'radius': lambda: uniform(1.5, 3),\n",
    "    'intensities': lambda: [uniform(.7, .9, 1), -uniform(.2, .3, 1)],\n",
    "    'bessel_orders': lambda: [1, 2]    ,\n",
    "    'ellip_direction': lambda: uniform(-pi, pi),\n",
    "    'ellipticity':  lambda: 1,\n",
    "}\n",
    "train_specs_df = define_image(train_img_dist, train_p_dist, 1000)\n",
    "train_specs_df = add_target(train_specs_df)\n"
   ]
  },
  {
   "cell_type": "code",
   "execution_count": 5,
   "metadata": {},
   "outputs": [
    {
     "data": {
      "text/html": [
       "<div>\n",
       "<style scoped>\n",
       "    .dataframe tbody tr th:only-of-type {\n",
       "        vertical-align: middle;\n",
       "    }\n",
       "\n",
       "    .dataframe tbody tr th {\n",
       "        vertical-align: top;\n",
       "    }\n",
       "\n",
       "    .dataframe thead th {\n",
       "        text-align: right;\n",
       "    }\n",
       "</style>\n",
       "<table border=\"1\" class=\"dataframe\">\n",
       "  <thead>\n",
       "    <tr style=\"text-align: right;\">\n",
       "      <th></th>\n",
       "      <th>n_particles</th>\n",
       "      <th>size</th>\n",
       "      <th>bkgd_level</th>\n",
       "      <th>gradient_intensity</th>\n",
       "      <th>gradient_direction</th>\n",
       "      <th>snr</th>\n",
       "      <th>particles</th>\n",
       "      <th>tx</th>\n",
       "      <th>ty</th>\n",
       "      <th>tr</th>\n",
       "    </tr>\n",
       "  </thead>\n",
       "  <tbody>\n",
       "    <tr>\n",
       "      <th>0</th>\n",
       "      <td>3</td>\n",
       "      <td>51</td>\n",
       "      <td>0.652410</td>\n",
       "      <td>0.783200</td>\n",
       "      <td>-0.584867</td>\n",
       "      <td>14.221489</td>\n",
       "      <td>[{'x': 0.28608465967944785, 'y': 0.58978065328...</td>\n",
       "      <td>32.102541</td>\n",
       "      <td>23.404164</td>\n",
       "      <td>1.821497</td>\n",
       "    </tr>\n",
       "    <tr>\n",
       "      <th>1</th>\n",
       "      <td>0</td>\n",
       "      <td>51</td>\n",
       "      <td>0.675523</td>\n",
       "      <td>0.961408</td>\n",
       "      <td>-0.497008</td>\n",
       "      <td>75.521745</td>\n",
       "      <td>[]</td>\n",
       "      <td>0.000000</td>\n",
       "      <td>0.000000</td>\n",
       "      <td>-1.000000</td>\n",
       "    </tr>\n",
       "    <tr>\n",
       "      <th>2</th>\n",
       "      <td>2</td>\n",
       "      <td>51</td>\n",
       "      <td>0.435903</td>\n",
       "      <td>0.290377</td>\n",
       "      <td>-0.241831</td>\n",
       "      <td>19.868140</td>\n",
       "      <td>[{'x': -0.6778568804621095, 'y': 0.25547903263...</td>\n",
       "      <td>16.782225</td>\n",
       "      <td>28.087065</td>\n",
       "      <td>1.805362</td>\n",
       "    </tr>\n",
       "    <tr>\n",
       "      <th>3</th>\n",
       "      <td>3</td>\n",
       "      <td>51</td>\n",
       "      <td>0.618823</td>\n",
       "      <td>0.594407</td>\n",
       "      <td>-1.810257</td>\n",
       "      <td>18.054638</td>\n",
       "      <td>[{'x': 0.5167811987726312, 'y': -0.33239487439...</td>\n",
       "      <td>18.681899</td>\n",
       "      <td>29.256801</td>\n",
       "      <td>2.211140</td>\n",
       "    </tr>\n",
       "    <tr>\n",
       "      <th>4</th>\n",
       "      <td>1</td>\n",
       "      <td>51</td>\n",
       "      <td>0.578330</td>\n",
       "      <td>0.812994</td>\n",
       "      <td>0.856901</td>\n",
       "      <td>28.306336</td>\n",
       "      <td>[{'x': -0.638119589142328, 'y': 0.321970175605...</td>\n",
       "      <td>9.047010</td>\n",
       "      <td>33.049254</td>\n",
       "      <td>2.050664</td>\n",
       "    </tr>\n",
       "  </tbody>\n",
       "</table>\n",
       "</div>"
      ],
      "text/plain": [
       "   n_particles  size  bkgd_level  gradient_intensity  gradient_direction  \\\n",
       "0            3    51    0.652410            0.783200           -0.584867   \n",
       "1            0    51    0.675523            0.961408           -0.497008   \n",
       "2            2    51    0.435903            0.290377           -0.241831   \n",
       "3            3    51    0.618823            0.594407           -1.810257   \n",
       "4            1    51    0.578330            0.812994            0.856901   \n",
       "\n",
       "         snr                                          particles         tx  \\\n",
       "0  14.221489  [{'x': 0.28608465967944785, 'y': 0.58978065328...  32.102541   \n",
       "1  75.521745                                                 []   0.000000   \n",
       "2  19.868140  [{'x': -0.6778568804621095, 'y': 0.25547903263...  16.782225   \n",
       "3  18.054638  [{'x': 0.5167811987726312, 'y': -0.33239487439...  18.681899   \n",
       "4  28.306336  [{'x': -0.638119589142328, 'y': 0.321970175605...   9.047010   \n",
       "\n",
       "          ty        tr  \n",
       "0  23.404164  1.821497  \n",
       "1   0.000000 -1.000000  \n",
       "2  28.087065  1.805362  \n",
       "3  29.256801  2.211140  \n",
       "4  33.049254  2.050664  "
      ]
     },
     "execution_count": 5,
     "metadata": {},
     "output_type": "execute_result"
    }
   ],
   "source": [
    "train_specs_df.head()"
   ]
  },
  {
   "cell_type": "markdown",
   "metadata": {},
   "source": [
    "Now use this dataframe to create a fastai `DataBunch`"
   ]
  },
  {
   "cell_type": "code",
   "execution_count": 17,
   "metadata": {},
   "outputs": [],
   "source": [
    "from fastai.vision.data import SegmentationProcessor\n",
    "\n",
    "\n",
    "class CustomSegmentationLabelList(MImageList):\n",
    "    \n",
    "    _processor=SegmentationProcessor\n",
    "    def __init__(self, items:Iterator, classes:Collection=None, **kwargs):\n",
    "        super().__init__(range_of(items), **kwargs) \n",
    "        self.copy_new.append('classes')\n",
    "        self.classes,self.loss_func = classes,CrossEntropyFlat(axis=1)\n",
    "        \n",
    "    @classmethod\n",
    "    def from_df(cls, df:pd.DataFrame, **kwargs)->'ItemList':\n",
    "        return cls(items=range(len(df)), inner_df=df.copy(), **kwargs)\n",
    "    \n",
    "    def open(self, i): \n",
    "        return generate_mask(self.inner_df.iloc[i]) #after_open=self.after_open\n",
    "\n",
    "    def analyze_pred(self, pred, thresh:float=0.5): return pred.argmax(dim=0)[None]\n",
    "    def reconstruct(self, t:Tensor): return ImageSegment(t)\n",
    "\n",
    "     \n",
    "class CustomSegmentationItemList(MImageList):\n",
    "    \"`ItemList` suitable for segmentation tasks.\"\n",
    "    _label_cls,_square_show_res = CustomSegmentationLabelList,False\n",
    "    \n"
   ]
  },
  {
   "cell_type": "code",
   "execution_count": 18,
   "metadata": {},
   "outputs": [
    {
     "name": "stdout",
     "output_type": "stream",
     "text": [
      "You can deactivate this warning by passing `no_check=True`.\n"
     ]
    },
    {
     "name": "stderr",
     "output_type": "stream",
     "text": [
      "/Users/wooduk/projects/DeepTrack/venv/lib/python3.8/site-packages/fastai/basic_data.py:262: UserWarning: There seems to be something wrong with your dataset, for example, in the first batch can't access any element of self.train_ds.\n",
      "Tried: 347,581,656,54,445...\n",
      "  warn(warn_msg)\n"
     ]
    },
    {
     "ename": "AttributeError",
     "evalue": "'NoneType' object has no attribute 'iloc'",
     "output_type": "error",
     "traceback": [
      "\u001b[0;31m---------------------------------------------------------------------------\u001b[0m",
      "\u001b[0;31mAttributeError\u001b[0m                            Traceback (most recent call last)",
      "\u001b[0;32m~/projects/DeepTrack/venv/lib/python3.8/site-packages/IPython/core/formatters.py\u001b[0m in \u001b[0;36m__call__\u001b[0;34m(self, obj)\u001b[0m\n\u001b[1;32m    700\u001b[0m                 \u001b[0mtype_pprinters\u001b[0m\u001b[0;34m=\u001b[0m\u001b[0mself\u001b[0m\u001b[0;34m.\u001b[0m\u001b[0mtype_printers\u001b[0m\u001b[0;34m,\u001b[0m\u001b[0;34m\u001b[0m\u001b[0;34m\u001b[0m\u001b[0m\n\u001b[1;32m    701\u001b[0m                 deferred_pprinters=self.deferred_printers)\n\u001b[0;32m--> 702\u001b[0;31m             \u001b[0mprinter\u001b[0m\u001b[0;34m.\u001b[0m\u001b[0mpretty\u001b[0m\u001b[0;34m(\u001b[0m\u001b[0mobj\u001b[0m\u001b[0;34m)\u001b[0m\u001b[0;34m\u001b[0m\u001b[0;34m\u001b[0m\u001b[0m\n\u001b[0m\u001b[1;32m    703\u001b[0m             \u001b[0mprinter\u001b[0m\u001b[0;34m.\u001b[0m\u001b[0mflush\u001b[0m\u001b[0;34m(\u001b[0m\u001b[0;34m)\u001b[0m\u001b[0;34m\u001b[0m\u001b[0;34m\u001b[0m\u001b[0m\n\u001b[1;32m    704\u001b[0m             \u001b[0;32mreturn\u001b[0m \u001b[0mstream\u001b[0m\u001b[0;34m.\u001b[0m\u001b[0mgetvalue\u001b[0m\u001b[0;34m(\u001b[0m\u001b[0;34m)\u001b[0m\u001b[0;34m\u001b[0m\u001b[0;34m\u001b[0m\u001b[0m\n",
      "\u001b[0;32m~/projects/DeepTrack/venv/lib/python3.8/site-packages/IPython/lib/pretty.py\u001b[0m in \u001b[0;36mpretty\u001b[0;34m(self, obj)\u001b[0m\n\u001b[1;32m    392\u001b[0m                         \u001b[0;32mif\u001b[0m \u001b[0mcls\u001b[0m \u001b[0;32mis\u001b[0m \u001b[0;32mnot\u001b[0m \u001b[0mobject\u001b[0m\u001b[0;31m \u001b[0m\u001b[0;31m\\\u001b[0m\u001b[0;34m\u001b[0m\u001b[0;34m\u001b[0m\u001b[0m\n\u001b[1;32m    393\u001b[0m                                 \u001b[0;32mand\u001b[0m \u001b[0mcallable\u001b[0m\u001b[0;34m(\u001b[0m\u001b[0mcls\u001b[0m\u001b[0;34m.\u001b[0m\u001b[0m__dict__\u001b[0m\u001b[0;34m.\u001b[0m\u001b[0mget\u001b[0m\u001b[0;34m(\u001b[0m\u001b[0;34m'__repr__'\u001b[0m\u001b[0;34m)\u001b[0m\u001b[0;34m)\u001b[0m\u001b[0;34m:\u001b[0m\u001b[0;34m\u001b[0m\u001b[0;34m\u001b[0m\u001b[0m\n\u001b[0;32m--> 394\u001b[0;31m                             \u001b[0;32mreturn\u001b[0m \u001b[0m_repr_pprint\u001b[0m\u001b[0;34m(\u001b[0m\u001b[0mobj\u001b[0m\u001b[0;34m,\u001b[0m \u001b[0mself\u001b[0m\u001b[0;34m,\u001b[0m \u001b[0mcycle\u001b[0m\u001b[0;34m)\u001b[0m\u001b[0;34m\u001b[0m\u001b[0;34m\u001b[0m\u001b[0m\n\u001b[0m\u001b[1;32m    395\u001b[0m \u001b[0;34m\u001b[0m\u001b[0m\n\u001b[1;32m    396\u001b[0m             \u001b[0;32mreturn\u001b[0m \u001b[0m_default_pprint\u001b[0m\u001b[0;34m(\u001b[0m\u001b[0mobj\u001b[0m\u001b[0;34m,\u001b[0m \u001b[0mself\u001b[0m\u001b[0;34m,\u001b[0m \u001b[0mcycle\u001b[0m\u001b[0;34m)\u001b[0m\u001b[0;34m\u001b[0m\u001b[0;34m\u001b[0m\u001b[0m\n",
      "\u001b[0;32m~/projects/DeepTrack/venv/lib/python3.8/site-packages/IPython/lib/pretty.py\u001b[0m in \u001b[0;36m_repr_pprint\u001b[0;34m(obj, p, cycle)\u001b[0m\n\u001b[1;32m    682\u001b[0m     \u001b[0;34m\"\"\"A pprint that just redirects to the normal repr function.\"\"\"\u001b[0m\u001b[0;34m\u001b[0m\u001b[0;34m\u001b[0m\u001b[0m\n\u001b[1;32m    683\u001b[0m     \u001b[0;31m# Find newlines and replace them with p.break_()\u001b[0m\u001b[0;34m\u001b[0m\u001b[0;34m\u001b[0m\u001b[0;34m\u001b[0m\u001b[0m\n\u001b[0;32m--> 684\u001b[0;31m     \u001b[0moutput\u001b[0m \u001b[0;34m=\u001b[0m \u001b[0mrepr\u001b[0m\u001b[0;34m(\u001b[0m\u001b[0mobj\u001b[0m\u001b[0;34m)\u001b[0m\u001b[0;34m\u001b[0m\u001b[0;34m\u001b[0m\u001b[0m\n\u001b[0m\u001b[1;32m    685\u001b[0m     \u001b[0mlines\u001b[0m \u001b[0;34m=\u001b[0m \u001b[0moutput\u001b[0m\u001b[0;34m.\u001b[0m\u001b[0msplitlines\u001b[0m\u001b[0;34m(\u001b[0m\u001b[0;34m)\u001b[0m\u001b[0;34m\u001b[0m\u001b[0;34m\u001b[0m\u001b[0m\n\u001b[1;32m    686\u001b[0m     \u001b[0;32mwith\u001b[0m \u001b[0mp\u001b[0m\u001b[0;34m.\u001b[0m\u001b[0mgroup\u001b[0m\u001b[0;34m(\u001b[0m\u001b[0;34m)\u001b[0m\u001b[0;34m:\u001b[0m\u001b[0;34m\u001b[0m\u001b[0;34m\u001b[0m\u001b[0m\n",
      "\u001b[0;32m~/projects/DeepTrack/venv/lib/python3.8/site-packages/fastai/basic_data.py\u001b[0m in \u001b[0;36m__repr__\u001b[0;34m(self)\u001b[0m\n\u001b[1;32m    101\u001b[0m \u001b[0;34m\u001b[0m\u001b[0m\n\u001b[1;32m    102\u001b[0m     \u001b[0;32mdef\u001b[0m \u001b[0m__repr__\u001b[0m\u001b[0;34m(\u001b[0m\u001b[0mself\u001b[0m\u001b[0;34m)\u001b[0m\u001b[0;34m->\u001b[0m\u001b[0mstr\u001b[0m\u001b[0;34m:\u001b[0m\u001b[0;34m\u001b[0m\u001b[0;34m\u001b[0m\u001b[0m\n\u001b[0;32m--> 103\u001b[0;31m         \u001b[0;32mreturn\u001b[0m \u001b[0;34mf'{self.__class__.__name__};\\n\\nTrain: {self.train_ds};\\n\\nValid: {self.valid_ds};\\n\\nTest: {self.test_ds}'\u001b[0m\u001b[0;34m\u001b[0m\u001b[0;34m\u001b[0m\u001b[0m\n\u001b[0m\u001b[1;32m    104\u001b[0m \u001b[0;34m\u001b[0m\u001b[0m\n\u001b[1;32m    105\u001b[0m     \u001b[0;34m@\u001b[0m\u001b[0mstaticmethod\u001b[0m\u001b[0;34m\u001b[0m\u001b[0;34m\u001b[0m\u001b[0m\n",
      "\u001b[0;32m~/projects/DeepTrack/venv/lib/python3.8/site-packages/fastai/data_block.py\u001b[0m in \u001b[0;36m__repr__\u001b[0;34m(self)\u001b[0m\n\u001b[1;32m    614\u001b[0m \u001b[0;34m\u001b[0m\u001b[0m\n\u001b[1;32m    615\u001b[0m     \u001b[0;32mdef\u001b[0m \u001b[0m__repr__\u001b[0m\u001b[0;34m(\u001b[0m\u001b[0mself\u001b[0m\u001b[0;34m)\u001b[0m\u001b[0;34m->\u001b[0m\u001b[0mstr\u001b[0m\u001b[0;34m:\u001b[0m\u001b[0;34m\u001b[0m\u001b[0;34m\u001b[0m\u001b[0m\n\u001b[0;32m--> 616\u001b[0;31m         \u001b[0mitems\u001b[0m \u001b[0;34m=\u001b[0m \u001b[0;34m[\u001b[0m\u001b[0mself\u001b[0m\u001b[0;34m[\u001b[0m\u001b[0mi\u001b[0m\u001b[0;34m]\u001b[0m \u001b[0;32mfor\u001b[0m \u001b[0mi\u001b[0m \u001b[0;32min\u001b[0m \u001b[0mrange\u001b[0m\u001b[0;34m(\u001b[0m\u001b[0mmin\u001b[0m\u001b[0;34m(\u001b[0m\u001b[0;36m5\u001b[0m\u001b[0;34m,\u001b[0m\u001b[0mlen\u001b[0m\u001b[0;34m(\u001b[0m\u001b[0mself\u001b[0m\u001b[0;34m.\u001b[0m\u001b[0mitems\u001b[0m\u001b[0;34m)\u001b[0m\u001b[0;34m)\u001b[0m\u001b[0;34m)\u001b[0m\u001b[0;34m]\u001b[0m\u001b[0;34m\u001b[0m\u001b[0;34m\u001b[0m\u001b[0m\n\u001b[0m\u001b[1;32m    617\u001b[0m         \u001b[0mres\u001b[0m \u001b[0;34m=\u001b[0m \u001b[0;34mf'{self.__class__.__name__} ({len(self.items)} items)\\n'\u001b[0m\u001b[0;34m\u001b[0m\u001b[0;34m\u001b[0m\u001b[0m\n\u001b[1;32m    618\u001b[0m         \u001b[0mres\u001b[0m \u001b[0;34m+=\u001b[0m \u001b[0;34mf'x: {self.x.__class__.__name__}\\n{show_some([i[0] for i in items])}\\n'\u001b[0m\u001b[0;34m\u001b[0m\u001b[0;34m\u001b[0m\u001b[0m\n",
      "\u001b[0;32m~/projects/DeepTrack/venv/lib/python3.8/site-packages/fastai/data_block.py\u001b[0m in \u001b[0;36m<listcomp>\u001b[0;34m(.0)\u001b[0m\n\u001b[1;32m    614\u001b[0m \u001b[0;34m\u001b[0m\u001b[0m\n\u001b[1;32m    615\u001b[0m     \u001b[0;32mdef\u001b[0m \u001b[0m__repr__\u001b[0m\u001b[0;34m(\u001b[0m\u001b[0mself\u001b[0m\u001b[0;34m)\u001b[0m\u001b[0;34m->\u001b[0m\u001b[0mstr\u001b[0m\u001b[0;34m:\u001b[0m\u001b[0;34m\u001b[0m\u001b[0;34m\u001b[0m\u001b[0m\n\u001b[0;32m--> 616\u001b[0;31m         \u001b[0mitems\u001b[0m \u001b[0;34m=\u001b[0m \u001b[0;34m[\u001b[0m\u001b[0mself\u001b[0m\u001b[0;34m[\u001b[0m\u001b[0mi\u001b[0m\u001b[0;34m]\u001b[0m \u001b[0;32mfor\u001b[0m \u001b[0mi\u001b[0m \u001b[0;32min\u001b[0m \u001b[0mrange\u001b[0m\u001b[0;34m(\u001b[0m\u001b[0mmin\u001b[0m\u001b[0;34m(\u001b[0m\u001b[0;36m5\u001b[0m\u001b[0;34m,\u001b[0m\u001b[0mlen\u001b[0m\u001b[0;34m(\u001b[0m\u001b[0mself\u001b[0m\u001b[0;34m.\u001b[0m\u001b[0mitems\u001b[0m\u001b[0;34m)\u001b[0m\u001b[0;34m)\u001b[0m\u001b[0;34m)\u001b[0m\u001b[0;34m]\u001b[0m\u001b[0;34m\u001b[0m\u001b[0;34m\u001b[0m\u001b[0m\n\u001b[0m\u001b[1;32m    617\u001b[0m         \u001b[0mres\u001b[0m \u001b[0;34m=\u001b[0m \u001b[0;34mf'{self.__class__.__name__} ({len(self.items)} items)\\n'\u001b[0m\u001b[0;34m\u001b[0m\u001b[0;34m\u001b[0m\u001b[0m\n\u001b[1;32m    618\u001b[0m         \u001b[0mres\u001b[0m \u001b[0;34m+=\u001b[0m \u001b[0;34mf'x: {self.x.__class__.__name__}\\n{show_some([i[0] for i in items])}\\n'\u001b[0m\u001b[0;34m\u001b[0m\u001b[0;34m\u001b[0m\u001b[0m\n",
      "\u001b[0;32m~/projects/DeepTrack/venv/lib/python3.8/site-packages/fastai/data_block.py\u001b[0m in \u001b[0;36m__getitem__\u001b[0;34m(self, idxs)\u001b[0m\n\u001b[1;32m    649\u001b[0m         \u001b[0midxs\u001b[0m \u001b[0;34m=\u001b[0m \u001b[0mtry_int\u001b[0m\u001b[0;34m(\u001b[0m\u001b[0midxs\u001b[0m\u001b[0;34m)\u001b[0m\u001b[0;34m\u001b[0m\u001b[0;34m\u001b[0m\u001b[0m\n\u001b[1;32m    650\u001b[0m         \u001b[0;32mif\u001b[0m \u001b[0misinstance\u001b[0m\u001b[0;34m(\u001b[0m\u001b[0midxs\u001b[0m\u001b[0;34m,\u001b[0m \u001b[0mIntegral\u001b[0m\u001b[0;34m)\u001b[0m\u001b[0;34m:\u001b[0m\u001b[0;34m\u001b[0m\u001b[0;34m\u001b[0m\u001b[0m\n\u001b[0;32m--> 651\u001b[0;31m             \u001b[0;32mif\u001b[0m \u001b[0mself\u001b[0m\u001b[0;34m.\u001b[0m\u001b[0mitem\u001b[0m \u001b[0;32mis\u001b[0m \u001b[0;32mNone\u001b[0m\u001b[0;34m:\u001b[0m \u001b[0mx\u001b[0m\u001b[0;34m,\u001b[0m\u001b[0my\u001b[0m \u001b[0;34m=\u001b[0m \u001b[0mself\u001b[0m\u001b[0;34m.\u001b[0m\u001b[0mx\u001b[0m\u001b[0;34m[\u001b[0m\u001b[0midxs\u001b[0m\u001b[0;34m]\u001b[0m\u001b[0;34m,\u001b[0m\u001b[0mself\u001b[0m\u001b[0;34m.\u001b[0m\u001b[0my\u001b[0m\u001b[0;34m[\u001b[0m\u001b[0midxs\u001b[0m\u001b[0;34m]\u001b[0m\u001b[0;34m\u001b[0m\u001b[0;34m\u001b[0m\u001b[0m\n\u001b[0m\u001b[1;32m    652\u001b[0m             \u001b[0;32melse\u001b[0m\u001b[0;34m:\u001b[0m                 \u001b[0mx\u001b[0m\u001b[0;34m,\u001b[0m\u001b[0my\u001b[0m \u001b[0;34m=\u001b[0m \u001b[0mself\u001b[0m\u001b[0;34m.\u001b[0m\u001b[0mitem\u001b[0m   \u001b[0;34m,\u001b[0m\u001b[0;36m0\u001b[0m\u001b[0;34m\u001b[0m\u001b[0;34m\u001b[0m\u001b[0m\n\u001b[1;32m    653\u001b[0m             \u001b[0;32mif\u001b[0m \u001b[0mself\u001b[0m\u001b[0;34m.\u001b[0m\u001b[0mtfms\u001b[0m \u001b[0;32mor\u001b[0m \u001b[0mself\u001b[0m\u001b[0;34m.\u001b[0m\u001b[0mtfmargs\u001b[0m\u001b[0;34m:\u001b[0m\u001b[0;34m\u001b[0m\u001b[0;34m\u001b[0m\u001b[0m\n",
      "\u001b[0;32m~/projects/DeepTrack/venv/lib/python3.8/site-packages/fastai/data_block.py\u001b[0m in \u001b[0;36m__getitem__\u001b[0;34m(self, idxs)\u001b[0m\n\u001b[1;32m    118\u001b[0m         \u001b[0;34m\"returns a single item based if `idxs` is an integer or a new `ItemList` object if `idxs` is a range.\"\u001b[0m\u001b[0;34m\u001b[0m\u001b[0;34m\u001b[0m\u001b[0m\n\u001b[1;32m    119\u001b[0m         \u001b[0midxs\u001b[0m \u001b[0;34m=\u001b[0m \u001b[0mtry_int\u001b[0m\u001b[0;34m(\u001b[0m\u001b[0midxs\u001b[0m\u001b[0;34m)\u001b[0m\u001b[0;34m\u001b[0m\u001b[0;34m\u001b[0m\u001b[0m\n\u001b[0;32m--> 120\u001b[0;31m         \u001b[0;32mif\u001b[0m \u001b[0misinstance\u001b[0m\u001b[0;34m(\u001b[0m\u001b[0midxs\u001b[0m\u001b[0;34m,\u001b[0m \u001b[0mIntegral\u001b[0m\u001b[0;34m)\u001b[0m\u001b[0;34m:\u001b[0m \u001b[0;32mreturn\u001b[0m \u001b[0mself\u001b[0m\u001b[0;34m.\u001b[0m\u001b[0mget\u001b[0m\u001b[0;34m(\u001b[0m\u001b[0midxs\u001b[0m\u001b[0;34m)\u001b[0m\u001b[0;34m\u001b[0m\u001b[0;34m\u001b[0m\u001b[0m\n\u001b[0m\u001b[1;32m    121\u001b[0m         \u001b[0;32melse\u001b[0m\u001b[0;34m:\u001b[0m \u001b[0;32mreturn\u001b[0m \u001b[0mself\u001b[0m\u001b[0;34m.\u001b[0m\u001b[0mnew\u001b[0m\u001b[0;34m(\u001b[0m\u001b[0mself\u001b[0m\u001b[0;34m.\u001b[0m\u001b[0mitems\u001b[0m\u001b[0;34m[\u001b[0m\u001b[0midxs\u001b[0m\u001b[0;34m]\u001b[0m\u001b[0;34m,\u001b[0m \u001b[0minner_df\u001b[0m\u001b[0;34m=\u001b[0m\u001b[0mindex_row\u001b[0m\u001b[0;34m(\u001b[0m\u001b[0mself\u001b[0m\u001b[0;34m.\u001b[0m\u001b[0minner_df\u001b[0m\u001b[0;34m,\u001b[0m \u001b[0midxs\u001b[0m\u001b[0;34m)\u001b[0m\u001b[0;34m)\u001b[0m\u001b[0;34m\u001b[0m\u001b[0;34m\u001b[0m\u001b[0m\n\u001b[1;32m    122\u001b[0m \u001b[0;34m\u001b[0m\u001b[0m\n",
      "\u001b[0;32m~/projects/DeepTrack/deeptrack/nbs/deeptracktorch/simg.py\u001b[0m in \u001b[0;36mget\u001b[0;34m(self, i)\u001b[0m\n\u001b[1;32m    297\u001b[0m         \u001b[0;31m# generate sythenthetic image from specification stored in items\u001b[0m\u001b[0;34m\u001b[0m\u001b[0;34m\u001b[0m\u001b[0;34m\u001b[0m\u001b[0m\n\u001b[1;32m    298\u001b[0m \u001b[0;34m\u001b[0m\u001b[0m\n\u001b[0;32m--> 299\u001b[0;31m         \u001b[0ma\u001b[0m\u001b[0;34m=\u001b[0m\u001b[0mgenerate_image\u001b[0m\u001b[0;34m(\u001b[0m\u001b[0mself\u001b[0m\u001b[0;34m.\u001b[0m\u001b[0minner_df\u001b[0m\u001b[0;34m.\u001b[0m\u001b[0miloc\u001b[0m\u001b[0;34m[\u001b[0m\u001b[0mi\u001b[0m\u001b[0;34m]\u001b[0m\u001b[0;34m)\u001b[0m\u001b[0;34m\u001b[0m\u001b[0;34m\u001b[0m\u001b[0m\n\u001b[0m\u001b[1;32m    300\u001b[0m         \u001b[0mres\u001b[0m\u001b[0;34m=\u001b[0m\u001b[0mImage\u001b[0m\u001b[0;34m(\u001b[0m\u001b[0mnpimg2tensor\u001b[0m\u001b[0;34m(\u001b[0m\u001b[0ma\u001b[0m\u001b[0;34m)\u001b[0m\u001b[0;34m)\u001b[0m\u001b[0;34m\u001b[0m\u001b[0;34m\u001b[0m\u001b[0m\n\u001b[1;32m    301\u001b[0m         \u001b[0mself\u001b[0m\u001b[0;34m.\u001b[0m\u001b[0msizes\u001b[0m\u001b[0;34m[\u001b[0m\u001b[0mi\u001b[0m\u001b[0;34m]\u001b[0m \u001b[0;34m=\u001b[0m \u001b[0mres\u001b[0m\u001b[0;34m.\u001b[0m\u001b[0msize\u001b[0m\u001b[0;34m\u001b[0m\u001b[0;34m\u001b[0m\u001b[0m\n",
      "\u001b[0;31mAttributeError\u001b[0m: 'NoneType' object has no attribute 'iloc'"
     ]
    }
   ],
   "source": [
    "import pdb\n",
    "batch_size=16\n",
    "data=CustomSegmentationItemList.from_df(train_specs_df).split_by_rand_pct(0.2)\n",
    "\n",
    "data.label_from_df(cols=['size','particles'],classes=[0,1],label_cls = CustomSegmentationLabelList).databunch(bs=batch_size)\n",
    "#data.show_batch()"
   ]
  },
  {
   "cell_type": "markdown",
   "metadata": {},
   "source": [
    "Create a `Learner` (fastai concept that combines data and netwrok)."
   ]
  },
  {
   "cell_type": "code",
   "execution_count": 5,
   "metadata": {},
   "outputs": [],
   "source": [
    "learner = Learner(data, DeepTrackNet)"
   ]
  },
  {
   "cell_type": "markdown",
   "metadata": {},
   "source": [
    "And train it..."
   ]
  },
  {
   "cell_type": "code",
   "execution_count": 6,
   "metadata": {},
   "outputs": [
    {
     "data": {
      "text/html": [
       "<table border=\"1\" class=\"dataframe\">\n",
       "  <thead>\n",
       "    <tr style=\"text-align: left;\">\n",
       "      <th>epoch</th>\n",
       "      <th>train_loss</th>\n",
       "      <th>valid_loss</th>\n",
       "      <th>time</th>\n",
       "    </tr>\n",
       "  </thead>\n",
       "  <tbody>\n",
       "    <tr>\n",
       "      <td>0</td>\n",
       "      <td>11.541556</td>\n",
       "      <td>7.641209</td>\n",
       "      <td>01:08</td>\n",
       "    </tr>\n",
       "    <tr>\n",
       "      <td>1</td>\n",
       "      <td>8.524967</td>\n",
       "      <td>7.105650</td>\n",
       "      <td>01:40</td>\n",
       "    </tr>\n",
       "    <tr>\n",
       "      <td>2</td>\n",
       "      <td>7.188013</td>\n",
       "      <td>6.257894</td>\n",
       "      <td>02:16</td>\n",
       "    </tr>\n",
       "    <tr>\n",
       "      <td>3</td>\n",
       "      <td>6.609187</td>\n",
       "      <td>6.214166</td>\n",
       "      <td>01:17</td>\n",
       "    </tr>\n",
       "  </tbody>\n",
       "</table>"
      ],
      "text/plain": [
       "<IPython.core.display.HTML object>"
      ]
     },
     "metadata": {},
     "output_type": "display_data"
    }
   ],
   "source": [
    "learner.fit_one_cycle(4)"
   ]
  },
  {
   "cell_type": "markdown",
   "metadata": {},
   "source": [
    "And save the trained network"
   ]
  },
  {
   "cell_type": "code",
   "execution_count": 7,
   "metadata": {},
   "outputs": [],
   "source": [
    "learner.export()"
   ]
  },
  {
   "cell_type": "markdown",
   "metadata": {},
   "source": [
    "## If not training the network..."
   ]
  },
  {
   "cell_type": "markdown",
   "metadata": {},
   "source": [
    "Load in a pre-trained network"
   ]
  },
  {
   "cell_type": "code",
   "execution_count": 12,
   "metadata": {},
   "outputs": [
    {
     "name": "stderr",
     "output_type": "stream",
     "text": [
      "/Users/wooduk/projects/DeepTrack/venv/lib/python3.8/site-packages/torch/serialization.py:593: SourceChangeWarning: source code of class 'torch.nn.modules.conv.Conv2d' has changed. you can retrieve the original source code by accessing the object's source attribute or set `torch.nn.Module.dump_patches = True` and use the patch tool to revert the changes.\n",
      "  warnings.warn(msg, SourceChangeWarning)\n",
      "/Users/wooduk/projects/DeepTrack/venv/lib/python3.8/site-packages/torch/serialization.py:593: SourceChangeWarning: source code of class 'torch.nn.modules.activation.ReLU' has changed. you can retrieve the original source code by accessing the object's source attribute or set `torch.nn.Module.dump_patches = True` and use the patch tool to revert the changes.\n",
      "  warnings.warn(msg, SourceChangeWarning)\n",
      "/Users/wooduk/projects/DeepTrack/venv/lib/python3.8/site-packages/torch/serialization.py:593: SourceChangeWarning: source code of class 'torch.nn.modules.linear.Linear' has changed. you can retrieve the original source code by accessing the object's source attribute or set `torch.nn.Module.dump_patches = True` and use the patch tool to revert the changes.\n",
      "  warnings.warn(msg, SourceChangeWarning)\n"
     ]
    }
   ],
   "source": [
    "learner = load_learner('models/E1a')"
   ]
  },
  {
   "cell_type": "markdown",
   "metadata": {},
   "source": [
    "## Evaluate the accuracy of predictions compared to standard methods"
   ]
  },
  {
   "cell_type": "markdown",
   "metadata": {},
   "source": [
    "### Performance for varying levels of SNR"
   ]
  },
  {
   "cell_type": "markdown",
   "metadata": {},
   "source": [
    "Set up experimental parameters"
   ]
  },
  {
   "cell_type": "code",
   "execution_count": 137,
   "metadata": {},
   "outputs": [],
   "source": [
    "train_img_dist = {   \n",
    "    'n_particles': lambda: 1,\n",
    "    'size': lambda: 51,\n",
    "    'bkgd_level': lambda: uniform(0.2,0.8),\n",
    "    'gradient_intensity': lambda: uniform(0,1),\n",
    "    'gradient_direction': lambda: uniform(-pi,pi),\n",
    "    'snr': lambda: uniform(10,100),\n",
    "}"
   ]
  },
  {
   "cell_type": "markdown",
   "metadata": {},
   "source": [
    "Now loop through SNR values and evaluate predictions, record results"
   ]
  },
  {
   "cell_type": "code",
   "execution_count": null,
   "metadata": {},
   "outputs": [],
   "source": [
    "MAE_snr_dtt=[]\n",
    "MAE_snr_sym=[]\n",
    "\n",
    "for snr in np.logspace(np.log10(3),np.log10(80), num=15):\n",
    "    # fix the snr\n",
    "    train_img_dist['snr'] = lambda : snr\n",
    "    \n",
    "    # produce 1000 images at this SNR\n",
    "    test_df = define_image(train_img_dist, train_p_dist, 1000)\n",
    "    test_df = add_target(test_df)\n",
    "    \n",
    "    test_images = MImageList.from_df(test_df)\n",
    "    test_truth = test_df[['tx','ty','tr']].to_numpy()\n",
    "    \n",
    "    # try depptracktorch\n",
    "    dtt_preds = np.array([learner.predict(x)[1].numpy() for x in test_images])\n",
    "    \n",
    "    # try symterical\n",
    "    sym_preds = np.array([radialcenter(x.px.squeeze())[:3] for x in test_images])\n",
    "    MAE_snr_dtt += [[snr, mean_absolute_error(test_truth, dtt_preds)]]\n",
    "    MAE_snr_sym += [[snr, mean_absolute_error(test_truth, sym_preds)]]\n",
    "\n",
    "\n",
    "import pickle\n",
    "with open('snr_results_2.pkl','wb') as f:\n",
    "    pickle.dump((MAE_snr_dtt,MAE_snr_sym),f)\n",
    "   "
   ]
  },
  {
   "cell_type": "markdown",
   "metadata": {},
   "source": [
    "### Performance for varying background gradient intensities"
   ]
  },
  {
   "cell_type": "markdown",
   "metadata": {},
   "source": [
    "Set up experimental parameters"
   ]
  },
  {
   "cell_type": "code",
   "execution_count": 34,
   "metadata": {},
   "outputs": [],
   "source": [
    "\n",
    "\n",
    "giexp_img_dist = {   \n",
    "    'n_particles': lambda: 1,\n",
    "    'size': lambda: 51,\n",
    "    'bkgd_level': lambda: uniform(0.2,0.8),\n",
    "    'gradient_intensity': lambda: 0,\n",
    "    'gradient_direction': lambda: uniform(-pi,pi),\n",
    "    'snr': lambda: 50,\n",
    "}\n",
    "\n",
    "giexp_p_dist = {\n",
    "    # the position of the particle relative to center of image. -1 to +1 being the edges in each direction.\n",
    "    'x': lambda: normal(0., 0.01),\n",
    "    'y': lambda: normal(0., 0.01),\n",
    "    \n",
    "    # I don't know what units this is in... pixels?\n",
    "    'radius': lambda: uniform(1.5, 3),\n",
    "    'intensities': lambda: [choice([-1, 1]) * uniform(.2, .6,)], #[uniform(.7, .9, 1), -uniform(.2, .3, 1)],\n",
    "    'bessel_orders': lambda: [randint(1,3)]    ,\n",
    "    'ellip_direction': lambda: uniform(-pi, pi),\n",
    "    'ellipticity':  lambda: 1,\n",
    "}\n"
   ]
  },
  {
   "cell_type": "markdown",
   "metadata": {},
   "source": [
    "Now loop through SNR values and evaluate predictions, record results"
   ]
  },
  {
   "cell_type": "code",
   "execution_count": 38,
   "metadata": {},
   "outputs": [],
   "source": [
    "MAE_gi_dtt=[]\n",
    "MAE_gi_sym=[]\n",
    "\n",
    "for gi in np.linspace(0,1, num=11):\n",
    "    # fix the snr\n",
    "    giexp_img_dist['gradient_intensity'] = lambda : gi\n",
    "    \n",
    "    # produce 1000 images at this SNR\n",
    "    test_df = define_image(giexp_img_dist, giexp_p_dist, 1000)\n",
    "    tr_cols = set(test_df.columns)\n",
    "    MAX_TARGETS_PER_IMAGE = 1 \n",
    "    test_df, target_colnames = add_targets(test_df , max_targets = MAX_TARGETS_PER_IMAGE)\n",
    "     \n",
    "    # try depptracktorch\n",
    "    dtt_preds = np.array([learner.predict(x)[1].numpy() for x in test_images])\n",
    "    \n",
    "    # try symterical\n",
    "    sym_preds = np.array([radialcenter(x.px.squeeze())[:3] for x in test_images])\n",
    "    \n",
    "    MAE_gi_dtt += [[gi, mean_absolute_error(test_truth, dtt_preds)]]\n",
    "    MAE_gi_sym += [[gi, mean_absolute_error(test_truth, sym_preds)]]\n",
    "\n",
    "import pickle\n",
    "with open('gi_results_2.pkl','wb') as f:\n",
    "    pickle.dump((MAE_gi_dtt,MAE_gi_sym),f)"
   ]
  },
  {
   "cell_type": "markdown",
   "metadata": {},
   "source": [
    "### Plot results"
   ]
  },
  {
   "cell_type": "code",
   "execution_count": 11,
   "metadata": {},
   "outputs": [
    {
     "data": {
      "text/plain": [
       "<matplotlib.legend.Legend at 0x137a73b20>"
      ]
     },
     "execution_count": 11,
     "metadata": {},
     "output_type": "execute_result"
    },
    {
     "data": {
      "image/png": "[encoded data removed]",
      "text/plain": [
       "<Figure size 864x432 with 2 Axes>"
      ]
     },
     "metadata": {
      "needs_background": "light"
     },
     "output_type": "display_data"
    }
   ],
   "source": [
    "with open('snr_results_2.pkl','rb') as f:\n",
    "    Md_snr,Ms_snr = pickle.load(f)\n",
    "\n",
    "with open('gi_results_2.pkl','rb') as f:\n",
    "    Md_gi,Ms_gi = pickle.load(f)\n",
    "\n",
    "fig,ax = plt.subplots(1,2,figsize=(12,6))\n",
    "ax[0].scatter(x=np.array(Md_snr)[:,0],y=np.array(Md_snr)[:,1],label='DeepTrack',marker='o',c='r')\n",
    "ax[0].scatter(x=np.array(Ms_snr)[:,0],y=np.array(Ms_snr)[:,1],label='Radial Sym.',marker='s',ec='grey',fc='none')\n",
    "ax[0].set_xscale('log'); ax[0].set_yscale('log')\n",
    "ax[0].set_xticks([3,8,30,80])\n",
    "ax[0].set_xticklabels([3,8,30,80])\n",
    "ax[0].set_yticks([0.003,0.03,0.1,0.3,1])\n",
    "ax[0].set_yticklabels([0.003,0.03,0.1,0.3,1])\n",
    "ax[0].set_xlabel('SNR', fontsize=20, fontfamily='Garamond')\n",
    "ax[0].set_ylabel('MAE (px)', fontsize=20,fontfamily='Garamond')\n",
    "ax[0].legend()\n",
    "\n",
    "# Gradient Intensity Plot\n",
    "ax[1].scatter(x=np.array(Md_gi)[:,0],y=np.array(Md_gi)[:,1],label='DeepTrack',marker='o',c='r')\n",
    "ax[1].scatter(x=np.array(Ms_gi)[:,0],y=np.array(Ms_gi)[:,1],label='Radial Sym.',marker='s',ec='grey',fc='none')\n",
    "ax[1].set_yscale('log')\n",
    "ax[1].set_yticks([0.005,0.01,0.1,0.3,1,3,10])\n",
    "ax[1].set_yticklabels(['','',0.1,0.3,1,3,10])\n",
    "ax[1].set_xlabel('Gradient Intensity', fontsize=20,fontfamily='Garamond')\n",
    "ax[1].set_ylabel('MAE (px)', fontsize=20,fontfamily='Garamond')\n",
    "ax[1].legend()"
   ]
  },
  {
   "cell_type": "code",
   "execution_count": 164,
   "metadata": {},
   "outputs": [],
   "source": [
    "# take the predicted positions and compare to symtry method\n",
    "video_file_name = '../../DeepTrack 1.0/DeepTrack - Example 2 - Optically Trapped Particle Bad.mp4'\n",
    "\n",
    "estimators = {\n",
    "        'deeptrack':lambda image: learner.predict(npimg2tensor(image))[1].numpy(),\n",
    "        'symmetry':lambda image: np.array(radialcenter(image)[:3],dtype=np.float32),\n",
    "    }\n",
    "\n",
    "predicted_positions = track_single_particle(\n",
    "    video_file_name, \n",
    "    estimators,use_cv2=False)"
   ]
  },
  {
   "cell_type": "code",
   "execution_count": 165,
   "metadata": {},
   "outputs": [
    {
     "data": {
      "text/plain": [
       "[<matplotlib.lines.Line2D at 0x144ae8880>]"
      ]
     },
     "execution_count": 165,
     "metadata": {},
     "output_type": "execute_result"
    },
    {
     "data": {
      "image/png": "[encoded data removed]",
      "text/plain": [
       "<Figure size 432x288 with 1 Axes>"
      ]
     },
     "metadata": {
      "needs_background": "light"
     },
     "output_type": "display_data"
    }
   ],
   "source": [
    "plt.plot(predicted_positions['deeptrack'][:,1])\n",
    "plt.plot(predicted_positions['symmetry'][:,1])\n"
   ]
  },
  {
   "cell_type": "code",
   "execution_count": null,
   "metadata": {},
   "outputs": [],
   "source": []
  }
 ],
 "metadata": {
  "kernelspec": {
   "display_name": "Python 3",
   "language": "python",
   "name": "python3"
  },
  "language_info": {
   "codemirror_mode": {
    "name": "ipython",
    "version": 3
   },
   "file_extension": ".py",
   "mimetype": "text/x-python",
   "name": "python",
   "nbconvert_exporter": "python",
   "pygments_lexer": "ipython3",
   "version": "3.8.1"
  }
 },
 "nbformat": 4,
 "nbformat_minor": 4
}
