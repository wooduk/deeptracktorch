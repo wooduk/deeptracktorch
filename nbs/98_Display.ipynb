{
 "cells": [
  {
   "cell_type": "code",
   "execution_count": null,
   "metadata": {},
   "outputs": [],
   "source": [
    "# default_exp disp"
   ]
  },
  {
   "cell_type": "code",
   "execution_count": null,
   "metadata": {},
   "outputs": [],
   "source": [
    "# export\n",
    "import altair as alt\n",
    "import pandas as pd\n",
    "import numpy as np"
   ]
  },
  {
   "cell_type": "markdown",
   "metadata": {},
   "source": [
    "# Display\n",
    "> Handy utility functions for display generated images, groudtruth and prediction overlays"
   ]
  },
  {
   "cell_type": "markdown",
   "metadata": {},
   "source": [
    "## Plotting"
   ]
  },
  {
   "cell_type": "code",
   "execution_count": null,
   "metadata": {},
   "outputs": [],
   "source": [
    "# export\n",
    "# a convience function for displaying array as heatmap\n",
    "def show_arr(A, value_name='z', w=300, h=300, log_scale=False, cmap='viridis',title='',figsize=(10,10)):\n",
    "    \n",
    "    if (cmap[-2:] == '_r'):\n",
    "        cmap=cmap[:-2]\n",
    "        sorting='descending'\n",
    "    else:\n",
    "        sorting='ascending'\n",
    "    \n",
    "    source = pd.DataFrame(A).unstack().reset_index()\n",
    "    source.columns=['x','y',value_name]\n",
    "    if log_scale:\n",
    "        source['log_'+value_name]=np.log10(source[value_name])\n",
    "        z=f'log_{value_name}'\n",
    "    \n",
    "    else:\n",
    "        z=f'{value_name}'\n",
    "    \n",
    "    domain=[source[z].min(),source[z].max()]\n",
    "    \n",
    "    return alt.Chart(source).mark_rect().encode(\n",
    "        x='x:O',\n",
    "        y='y:O',\n",
    "        fill=alt.Color(f'{z}:Q',scale=alt.Scale(domain=domain,scheme=cmap),sort=sorting),\n",
    "        stroke=alt.Color(f'{z}:Q',scale=alt.Scale(domain=domain,scheme=cmap),sort=sorting),\n",
    "        tooltip=[ alt.Tooltip('x:O', title='x'), alt.Tooltip('y:O', title='y'), alt.Tooltip(f'{value_name}:Q', title=value_name) ]\n",
    "    ).interactive().properties(width=w,height=h,title=title)   "
   ]
  },
  {
   "cell_type": "code",
   "execution_count": null,
   "metadata": {},
   "outputs": [],
   "source": [
    "# export\n",
    "def format_bessel_example(a):    \n",
    "    # legend, axes labels and markers\n",
    "    a.axhline(0,c='grey',linestyle='--',lw=1)\n",
    "    #suffix=['th','st','nd','rd','th']\n",
    "    #a.legend([f\"${o}^{{{suffix[np.clip(o,0,4)]}}}$\" for o in bessel_order])\n",
    "    a.set_xlabel('$r$'); \n",
    "    a.set_ylabel('$f(order,r)$')\n",
    "    a.minorticks_on(); a.grid(True,which='minor',c='#eeeeee'); \n",
    "    a.grid(True,which='major',c='#aaaaaa')\n",
    "    a.set_title(\"Response of `scipy.special.jv()` for values of $order$ and $r$\", fontsize=16)\n",
    "    a.set_ylim([-0.5,1.0]);\n",
    "    a.set_xlim([0,50]);"
   ]
  },
  {
   "cell_type": "code",
   "execution_count": null,
   "metadata": {},
   "outputs": [],
   "source": [
    "# export\n",
    "from glob import glob\n",
    "\n",
    "def show_images_dir(d):\n",
    "    for k in ['train','valid','test']:\n",
    "        g=glob(f\"{d/k/'*.png'}\")\n",
    "        L=len([j for j in g])\n",
    "        print('\\n',k,f\"({L} files)\")\n",
    "        for i,f in enumerate(g):\n",
    "            print('    |------',f.split('/')[-1])\n",
    "            if i>3:\n",
    "                print('    |------ ...',)\n",
    "                break"
   ]
  },
  {
   "cell_type": "code",
   "execution_count": null,
   "metadata": {},
   "outputs": [],
   "source": [
    "# hide\n",
    "from nbdev.export import notebook2script\n",
    "notebook2script()"
   ]
  },
  {
   "cell_type": "code",
   "execution_count": null,
   "metadata": {},
   "outputs": [],
   "source": []
  },
  {
   "cell_type": "code",
   "execution_count": null,
   "metadata": {},
   "outputs": [],
   "source": []
  }
 ],
 "metadata": {
  "kernelspec": {
   "display_name": "Python 3",
   "language": "python",
   "name": "python3"
  }
 },
 "nbformat": 4,
 "nbformat_minor": 4
}
